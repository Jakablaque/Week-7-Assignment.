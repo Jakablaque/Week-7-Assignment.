{
 "cells": [
  {
   "cell_type": "markdown",
   "id": "750f5d63",
   "metadata": {},
   "source": [
    "# Iris Dataset Analysis Assignment\n",
    "**Student Name:** [Your Name]  \n",
    "**Course:** Data Analysis with Python  \n",
    "**Date:** [Insert Date]"
   ]
  },
  {
   "cell_type": "markdown",
   "id": "eb0c7913",
   "metadata": {},
   "source": [
    "\n",
    "This assignment involves analyzing the famous Iris dataset. The tasks include loading and cleaning the dataset, performing basic statistical analysis, and creating various visualizations to understand the structure and relationships within the data.\n"
   ]
  },
  {
   "cell_type": "code",
   "execution_count": null,
   "id": "c6b13c06",
   "metadata": {},
   "outputs": [],
   "source": [
    "\n",
    "import pandas as pd\n",
    "from sklearn.datasets import load_iris\n",
    "\n",
    "# Load the dataset from sklearn and convert to DataFrame\n",
    "iris_data = load_iris()\n",
    "df = pd.DataFrame(data=iris_data.data, columns=iris_data.feature_names)\n",
    "df['species'] = iris_data.target\n",
    "df['species'] = df['species'].map(dict(zip(range(3), iris_data.target_names)))\n",
    "\n",
    "# Display the first few rows\n",
    "df.head()\n"
   ]
  },
  {
   "cell_type": "code",
   "execution_count": null,
   "id": "e0e08f25",
   "metadata": {},
   "outputs": [],
   "source": [
    "\n",
    "# Checking the structure of the dataset\n",
    "df.info()\n",
    "df.isnull().sum()\n"
   ]
  },
  {
   "cell_type": "code",
   "execution_count": null,
   "id": "4b46c58a",
   "metadata": {},
   "outputs": [],
   "source": [
    "\n",
    "# Drop any missing values if they exist (though this dataset has none)\n",
    "df.dropna(inplace=True)\n"
   ]
  },
  {
   "cell_type": "code",
   "execution_count": null,
   "id": "d054e802",
   "metadata": {},
   "outputs": [],
   "source": [
    "\n",
    "# Basic statistics of numerical columns\n",
    "df.describe()\n"
   ]
  },
  {
   "cell_type": "code",
   "execution_count": null,
   "id": "fb1907c9",
   "metadata": {},
   "outputs": [],
   "source": [
    "\n",
    "# Group by species and compute average measurements\n",
    "df.groupby('species').mean()\n"
   ]
  },
  {
   "cell_type": "markdown",
   "id": "6932cccd",
   "metadata": {},
   "source": [
    "\n",
    "From the grouped statistics, it is evident that *Iris-virginica* generally has the largest petal dimensions, while *Iris-setosa* tends to have the smallest.\n"
   ]
  },
  {
   "cell_type": "code",
   "execution_count": null,
   "id": "fd511327",
   "metadata": {},
   "outputs": [],
   "source": [
    "\n",
    "import matplotlib.pyplot as plt\n",
    "import seaborn as sns\n",
    "\n",
    "sns.set(style=\"whitegrid\")\n",
    "\n",
    "# Line chart showing average sepal length by species\n",
    "df_grouped_time = df.groupby('species').mean().reset_index()\n",
    "plt.figure(figsize=(8, 5))\n",
    "plt.plot(df_grouped_time['species'], df_grouped_time['sepal length (cm)'], marker='o')\n",
    "plt.title('Average Sepal Length by Species')\n",
    "plt.xlabel('Species')\n",
    "plt.ylabel('Sepal Length (cm)')\n",
    "plt.grid(True)\n",
    "plt.show()\n"
   ]
  },
  {
   "cell_type": "code",
   "execution_count": null,
   "id": "7c2e5820",
   "metadata": {},
   "outputs": [],
   "source": [
    "\n",
    "# Bar chart: Average petal length per species\n",
    "plt.figure(figsize=(8, 5))\n",
    "sns.barplot(x='species', y='petal length (cm)', data=df, estimator='mean')\n",
    "plt.title('Average Petal Length per Species')\n",
    "plt.xlabel('Species')\n",
    "plt.ylabel('Petal Length (cm)')\n",
    "plt.show()\n"
   ]
  },
  {
   "cell_type": "code",
   "execution_count": null,
   "id": "60296d1b",
   "metadata": {},
   "outputs": [],
   "source": [
    "\n",
    "# Histogram of sepal width\n",
    "plt.figure(figsize=(8, 5))\n",
    "plt.hist(df['sepal width (cm)'], bins=20, color='skyblue', edgecolor='black')\n",
    "plt.title('Distribution of Sepal Width')\n",
    "plt.xlabel('Sepal Width (cm)')\n",
    "plt.ylabel('Frequency')\n",
    "plt.show()\n"
   ]
  },
  {
   "cell_type": "code",
   "execution_count": null,
   "id": "3811675c",
   "metadata": {},
   "outputs": [],
   "source": [
    "\n",
    "# Scatter plot: Sepal length vs Petal length\n",
    "plt.figure(figsize=(8, 5))\n",
    "sns.scatterplot(data=df, x='sepal length (cm)', y='petal length (cm)', hue='species')\n",
    "plt.title('Sepal Length vs Petal Length')\n",
    "plt.xlabel('Sepal Length (cm)')\n",
    "plt.ylabel('Petal Length (cm)')\n",
    "plt.legend(title='Species')\n",
    "plt.show()\n"
   ]
  },
  {
   "cell_type": "code",
   "execution_count": null,
   "id": "a3522ac0",
   "metadata": {},
   "outputs": [],
   "source": [
    "\n",
    "# Example of error handling while reading a file\n",
    "try:\n",
    "    df = pd.read_csv(\"non_existent_file.csv\")\n",
    "except FileNotFoundError:\n",
    "    print(\"Error: File not found. Please check the path.\")\n"
   ]
  },
  {
   "cell_type": "markdown",
   "id": "0dd2cd4b",
   "metadata": {},
   "source": [
    "\n",
    "### Conclusion\n",
    "\n",
    "The Iris dataset offers a straightforward yet insightful way to practice data analysis. Through this assignment, I was able to explore data cleaning, perform basic statistical analysis, and visualize trends and relationships in the dataset. The visualizations particularly helped in understanding species differences in petal and sepal dimensions.\n"
   ]
  }
 ],
 "metadata": {},
 "nbformat": 4,
 "nbformat_minor": 5
}